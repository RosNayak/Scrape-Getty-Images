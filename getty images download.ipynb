{
 "cells": [
  {
   "cell_type": "code",
   "execution_count": 39,
   "metadata": {},
   "outputs": [],
   "source": [
    "import os\n",
    "import time\n",
    "import shutil\n",
    "import requests\n",
    "from selenium import webdriver\n",
    "from selenium.webdriver.common.by import By\n",
    "from selenium.webdriver.common.keys import Keys\n",
    "from selenium.webdriver.support.ui import WebDriverWait\n",
    "from selenium.webdriver.support import expected_conditions as EC"
   ]
  },
  {
   "cell_type": "code",
   "execution_count": 40,
   "metadata": {},
   "outputs": [],
   "source": [
    "path = os.path.join(os.getcwd(), \"chromedriver.exe\")\n",
    "driver = webdriver.Chrome(path)"
   ]
  },
  {
   "cell_type": "code",
   "execution_count": 41,
   "metadata": {},
   "outputs": [],
   "source": [
    "website = \"https://www.gettyimages.in/\"\n",
    "driver.get(website)"
   ]
  },
  {
   "cell_type": "code",
   "execution_count": 42,
   "metadata": {},
   "outputs": [],
   "source": [
    "search_bar = driver.find_element_by_name(\"phrase\")\n",
    "search_bar.clear()\n",
    "search_bar.send_keys(\"Pollution Mask\")\n",
    "search_bar.send_keys(Keys.RETURN)"
   ]
  },
  {
   "cell_type": "code",
   "execution_count": 43,
   "metadata": {},
   "outputs": [],
   "source": [
    "no_of_pages = 5\n",
    "count = 0\n",
    "gap_time = 5\n",
    "\n",
    "for i in range(5):\n",
    "    \n",
    "    #get the image tags.\n",
    "    images_tags = driver.find_elements_by_tag_name(\"img.gallery-asset__thumb\")\n",
    "    #extract the image source link.\n",
    "    image_links = []\n",
    "    for image in images_tags:\n",
    "        image_links.append(image.get_attribute('src'))\n",
    "        \n",
    "    #loop to download the images from the source.\n",
    "    for link in image_links:\n",
    "        count += 1\n",
    "        try:\n",
    "            response = requests.get(link, stream=True)\n",
    "    \n",
    "            if response.status_code == 200:\n",
    "                response.raw.decode_content = True\n",
    "        \n",
    "                with open('faces_with_mask/face_' + str(count) + '.jpg','wb') as f:\n",
    "                    shutil.copyfileobj(response.raw, f)\n",
    "        except:\n",
    "            continue\n",
    "            \n",
    "    #go to next page. get the next button. click the button.\n",
    "    buttons = driver.find_elements_by_css_selector(\"a.search-pagination__button\")\n",
    "    next_button = buttons[-1]\n",
    "    next_button.click()\n",
    "    time.sleep(5)"
   ]
  },
  {
   "cell_type": "code",
   "execution_count": 48,
   "metadata": {},
   "outputs": [],
   "source": [
    "driver.back()\n",
    "driver.back()\n",
    "driver.back()\n",
    "driver.back()\n",
    "driver.back()\n",
    "driver.back()"
   ]
  },
  {
   "cell_type": "code",
   "execution_count": 49,
   "metadata": {},
   "outputs": [],
   "source": [
    "driver.close()"
   ]
  },
  {
   "cell_type": "code",
   "execution_count": null,
   "metadata": {},
   "outputs": [],
   "source": []
  }
 ],
 "metadata": {
  "kernelspec": {
   "display_name": "Python 3",
   "language": "python",
   "name": "python3"
  },
  "language_info": {
   "codemirror_mode": {
    "name": "ipython",
    "version": 3
   },
   "file_extension": ".py",
   "mimetype": "text/x-python",
   "name": "python",
   "nbconvert_exporter": "python",
   "pygments_lexer": "ipython3",
   "version": "3.7.3"
  }
 },
 "nbformat": 4,
 "nbformat_minor": 2
}
